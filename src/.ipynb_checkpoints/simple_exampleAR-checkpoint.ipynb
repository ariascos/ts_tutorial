{
 "cells": [
  {
   "cell_type": "code",
   "execution_count": 2,
   "metadata": {},
   "outputs": [
    {
     "ename": "ModuleNotFoundError",
     "evalue": "No module named 'plotnine'",
     "output_type": "error",
     "traceback": [
      "\u001b[1;31m---------------------------------------------------------------------------\u001b[0m",
      "\u001b[1;31mModuleNotFoundError\u001b[0m                       Traceback (most recent call last)",
      "\u001b[1;32m<ipython-input-2-42b23ab29c6d>\u001b[0m in \u001b[0;36m<module>\u001b[1;34m\u001b[0m\n\u001b[0;32m     10\u001b[0m \u001b[1;32mimport\u001b[0m \u001b[0mnumpy\u001b[0m \u001b[1;32mas\u001b[0m \u001b[0mnp\u001b[0m\u001b[1;33m\u001b[0m\u001b[1;33m\u001b[0m\u001b[0m\n\u001b[0;32m     11\u001b[0m \u001b[1;32mimport\u001b[0m \u001b[0mpandas\u001b[0m \u001b[1;32mas\u001b[0m \u001b[0mpd\u001b[0m\u001b[1;33m\u001b[0m\u001b[1;33m\u001b[0m\u001b[0m\n\u001b[1;32m---> 12\u001b[1;33m \u001b[1;32mimport\u001b[0m \u001b[0mplotnine\u001b[0m \u001b[1;32mas\u001b[0m \u001b[0mgg\u001b[0m\u001b[1;33m\u001b[0m\u001b[1;33m\u001b[0m\u001b[0m\n\u001b[0m\u001b[0;32m     13\u001b[0m \u001b[1;33m\u001b[0m\u001b[0m\n\u001b[0;32m     14\u001b[0m \u001b[1;32mfrom\u001b[0m \u001b[0mbase\u001b[0m\u001b[1;33m.\u001b[0m\u001b[0mexperiment\u001b[0m \u001b[1;32mimport\u001b[0m \u001b[0mBaseExperiment\u001b[0m\u001b[1;33m\u001b[0m\u001b[1;33m\u001b[0m\u001b[0m\n",
      "\u001b[1;31mModuleNotFoundError\u001b[0m: No module named 'plotnine'"
     ]
    }
   ],
   "source": [
    "\"\"\"Run an simple experiment locally without using config file.\n",
    "\n",
    "This file is presented as a very simple entry point to code.\n",
    "For running any meaningful experiments, we suggest `batch_runner.py` or\n",
    "`local_runner.py`.\n",
    "\"\"\"\n",
    "import os\n",
    "import sys\n",
    "\n",
    "import numpy as np\n",
    "import pandas as pd\n",
    "import plotnine as gg\n",
    "\n",
    "from base.experiment import BaseExperiment\n",
    "from finite_arm.agent_finite import FiniteBernoulliBanditTS\n",
    "from finite_arm.env_finite import FiniteArmedBernoulliBandit\n",
    "\n",
    "sys.path.append(os.getcwd())"
   ]
  },
  {
   "cell_type": "code",
   "execution_count": 1,
   "metadata": {},
   "outputs": [
    {
     "ename": "ModuleNotFoundError",
     "evalue": "No module named 'plotnine'",
     "output_type": "error",
     "traceback": [
      "\u001b[1;31m---------------------------------------------------------------------------\u001b[0m",
      "\u001b[1;31mModuleNotFoundError\u001b[0m                       Traceback (most recent call last)",
      "\u001b[1;32m<ipython-input-1-b863cd61db4f>\u001b[0m in \u001b[0;36m<module>\u001b[1;34m\u001b[0m\n\u001b[0;32m     10\u001b[0m \u001b[1;32mimport\u001b[0m \u001b[0mnumpy\u001b[0m \u001b[1;32mas\u001b[0m \u001b[0mnp\u001b[0m\u001b[1;33m\u001b[0m\u001b[1;33m\u001b[0m\u001b[0m\n\u001b[0;32m     11\u001b[0m \u001b[1;32mimport\u001b[0m \u001b[0mpandas\u001b[0m \u001b[1;32mas\u001b[0m \u001b[0mpd\u001b[0m\u001b[1;33m\u001b[0m\u001b[1;33m\u001b[0m\u001b[0m\n\u001b[1;32m---> 12\u001b[1;33m \u001b[1;32mimport\u001b[0m \u001b[0mplotnine\u001b[0m \u001b[1;32mas\u001b[0m \u001b[0mgg\u001b[0m\u001b[1;33m\u001b[0m\u001b[1;33m\u001b[0m\u001b[0m\n\u001b[0m\u001b[0;32m     13\u001b[0m \u001b[1;33m\u001b[0m\u001b[0m\n\u001b[0;32m     14\u001b[0m \u001b[1;32mfrom\u001b[0m \u001b[0mbase\u001b[0m\u001b[1;33m.\u001b[0m\u001b[0mexperiment\u001b[0m \u001b[1;32mimport\u001b[0m \u001b[0mBaseExperiment\u001b[0m\u001b[1;33m\u001b[0m\u001b[1;33m\u001b[0m\u001b[0m\n",
      "\u001b[1;31mModuleNotFoundError\u001b[0m: No module named 'plotnine'"
     ]
    }
   ],
   "source": [
    "##############################################################################\n",
    "# Running a single experiment\n",
    "\n",
    "probs = [0.7, 0.8, 0.9]\n",
    "n_steps = 1000\n",
    "seed = 0\n",
    "\n",
    "agent = FiniteBernoulliBanditTS(n_arm=len(probs))\n",
    "env = FiniteArmedBernoulliBandit(probs)\n",
    "experiment = BaseExperiment(\n",
    "    agent, env, n_steps=n_steps, seed=seed, unique_id='example')\n",
    "\n",
    "experiment.run_experiment()\n",
    "\n",
    "\n",
    "experiment.run_experiment()\n",
    "\n",
    "##############################################################################\n",
    "# Simple display / plot of results\n",
    "\n",
    "experiment.results.head()\n",
    "\n",
    "p = (gg.ggplot(experiment.results)\n",
    "     + gg.aes(x='t', y='instant_regret', colour='unique_id')\n",
    "     + gg.geom_line())\n",
    "print(p)"
   ]
  },
  {
   "cell_type": "code",
   "execution_count": 3,
   "metadata": {},
   "outputs": [
    {
     "name": "stdout",
     "output_type": "stream",
     "text": [
      "Collecting plotnine\n",
      "  Downloading plotnine-0.10.1-py3-none-any.whl (1.2 MB)\n",
      "Collecting pandas>=1.3.5\n",
      "  Downloading pandas-1.5.2-cp38-cp38-win_amd64.whl (11.0 MB)\n",
      "Collecting mizani>=0.8.1\n",
      "  Downloading mizani-0.8.1-py3-none-any.whl (64 kB)\n",
      "Requirement already satisfied: scipy>=1.5.0 in c:\\users\\arias\\anaconda3\\lib\\site-packages (from plotnine) (1.5.2)\n",
      "Collecting matplotlib>=3.5.0\n",
      "  Downloading matplotlib-3.6.2-cp38-cp38-win_amd64.whl (7.2 MB)\n",
      "Requirement already satisfied: numpy>=1.19.0 in c:\\users\\arias\\anaconda3\\lib\\site-packages (from plotnine) (1.19.2)\n",
      "Collecting statsmodels>=0.13.2\n",
      "  Downloading statsmodels-0.13.5-cp38-cp38-win_amd64.whl (9.2 MB)\n",
      "Requirement already satisfied: patsy>=0.5.1 in c:\\users\\arias\\anaconda3\\lib\\site-packages (from plotnine) (0.5.1)\n",
      "Requirement already satisfied: python-dateutil>=2.8.1 in c:\\users\\arias\\anaconda3\\lib\\site-packages (from pandas>=1.3.5->plotnine) (2.8.1)\n",
      "Requirement already satisfied: pytz>=2020.1 in c:\\users\\arias\\anaconda3\\lib\\site-packages (from pandas>=1.3.5->plotnine) (2020.1)\n",
      "Collecting tzdata; platform_system == \"Windows\"\n",
      "  Downloading tzdata-2022.7-py2.py3-none-any.whl (340 kB)\n",
      "Collecting palettable\n",
      "  Downloading palettable-3.3.0-py2.py3-none-any.whl (111 kB)\n",
      "Collecting backports.zoneinfo; python_version < \"3.9\"\n",
      "  Downloading backports.zoneinfo-0.2.1-cp38-cp38-win_amd64.whl (38 kB)\n",
      "Requirement already satisfied: kiwisolver>=1.0.1 in c:\\users\\arias\\anaconda3\\lib\\site-packages (from matplotlib>=3.5.0->plotnine) (1.3.0)\n",
      "Requirement already satisfied: packaging>=20.0 in c:\\users\\arias\\anaconda3\\lib\\site-packages (from matplotlib>=3.5.0->plotnine) (20.4)\n",
      "Collecting fonttools>=4.22.0\n",
      "  Downloading fonttools-4.38.0-py3-none-any.whl (965 kB)\n",
      "Collecting contourpy>=1.0.1\n",
      "  Downloading contourpy-1.0.6-cp38-cp38-win_amd64.whl (163 kB)\n",
      "Requirement already satisfied: pillow>=6.2.0 in c:\\users\\arias\\anaconda3\\lib\\site-packages (from matplotlib>=3.5.0->plotnine) (8.0.1)\n",
      "Requirement already satisfied: pyparsing>=2.2.1 in c:\\users\\arias\\anaconda3\\lib\\site-packages (from matplotlib>=3.5.0->plotnine) (2.4.7)\n",
      "Requirement already satisfied: cycler>=0.10 in c:\\users\\arias\\anaconda3\\lib\\site-packages (from matplotlib>=3.5.0->plotnine) (0.10.0)\n",
      "Requirement already satisfied: six in c:\\users\\arias\\anaconda3\\lib\\site-packages (from patsy>=0.5.1->plotnine) (1.15.0)\n",
      "Installing collected packages: pandas, fonttools, contourpy, matplotlib, tzdata, palettable, backports.zoneinfo, mizani, statsmodels, plotnine\n",
      "  Attempting uninstall: pandas\n",
      "    Found existing installation: pandas 1.1.3\n",
      "    Uninstalling pandas-1.1.3:\n",
      "      Successfully uninstalled pandas-1.1.3\n",
      "  Attempting uninstall: matplotlib\n",
      "    Found existing installation: matplotlib 3.3.2\n",
      "    Uninstalling matplotlib-3.3.2:\n"
     ]
    },
    {
     "name": "stderr",
     "output_type": "stream",
     "text": [
      "ERROR: Could not install packages due to an EnvironmentError: [WinError 32] The process cannot access the file because it is being used by another process: 'c:\\\\users\\\\arias\\\\anaconda3\\\\lib\\\\site-packages\\\\matplotlib\\\\mpl-data\\\\fonts\\\\ttf\\\\DejaVuSans.ttf'\n",
      "Consider using the `--user` option or check the permissions.\n",
      "\n"
     ]
    }
   ],
   "source": [
    "!pip install plotnine"
   ]
  },
  {
   "cell_type": "code",
   "execution_count": null,
   "metadata": {},
   "outputs": [],
   "source": []
  }
 ],
 "metadata": {
  "kernelspec": {
   "display_name": "Python 3",
   "language": "python",
   "name": "python3"
  },
  "language_info": {
   "codemirror_mode": {
    "name": "ipython",
    "version": 3
   },
   "file_extension": ".py",
   "mimetype": "text/x-python",
   "name": "python",
   "nbconvert_exporter": "python",
   "pygments_lexer": "ipython3",
   "version": "3.8.5"
  }
 },
 "nbformat": 4,
 "nbformat_minor": 4
}
